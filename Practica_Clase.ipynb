{
  "nbformat": 4,
  "nbformat_minor": 0,
  "metadata": {
    "colab": {
      "provenance": [],
      "authorship_tag": "ABX9TyN5vfyPYiHEPq8chZuQzNms",
      "include_colab_link": true
    },
    "kernelspec": {
      "name": "python3",
      "display_name": "Python 3"
    },
    "language_info": {
      "name": "python"
    }
  },
  "cells": [
    {
      "cell_type": "markdown",
      "metadata": {
        "id": "view-in-github",
        "colab_type": "text"
      },
      "source": [
        "<a href=\"https://colab.research.google.com/github/AlejaGg/ChatbotIA/blob/main/Practica_Clase.ipynb\" target=\"_parent\"><img src=\"https://colab.research.google.com/assets/colab-badge.svg\" alt=\"Open In Colab\"/></a>"
      ]
    },
    {
      "cell_type": "markdown",
      "source": [
        "Instalación de polars"
      ],
      "metadata": {
        "id": "1fixNFqf0wi4"
      }
    },
    {
      "cell_type": "code",
      "execution_count": null,
      "metadata": {
        "colab": {
          "base_uri": "https://localhost:8080/"
        },
        "id": "fkQUhFRJkznJ",
        "outputId": "bc8cf80b-3215-42a2-e227-1abd47f95e36"
      },
      "outputs": [
        {
          "output_type": "stream",
          "name": "stdout",
          "text": [
            "Requirement already satisfied: polars in /usr/local/lib/python3.11/dist-packages (1.21.0)\n"
          ]
        }
      ],
      "source": [
        "pip install polars"
      ]
    },
    {
      "cell_type": "code",
      "source": [],
      "metadata": {
        "id": "RnKTuSF04vOO"
      },
      "execution_count": null,
      "outputs": []
    }
  ]
}